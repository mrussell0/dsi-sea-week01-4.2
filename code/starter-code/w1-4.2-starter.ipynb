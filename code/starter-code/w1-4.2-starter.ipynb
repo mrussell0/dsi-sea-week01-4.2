{
 "cells": [
  {
   "cell_type": "code",
   "execution_count": 1,
   "metadata": {
    "collapsed": false
   },
   "outputs": [],
   "source": [
    "# import numpy\n",
    "# create array x\n",
    "import numpy as np\n",
    "\n",
    "x = np.array([10,22,32,42,52,62,72,82,92])"
   ]
  },
  {
   "cell_type": "code",
   "execution_count": 2,
   "metadata": {
    "collapsed": false
   },
   "outputs": [
    {
     "name": "stdout",
     "output_type": "stream",
     "text": [
      "(9,)\n"
     ]
    }
   ],
   "source": [
    "# print the shape of x\n",
    "print x.shape"
   ]
  },
  {
   "cell_type": "code",
   "execution_count": 3,
   "metadata": {
    "collapsed": false
   },
   "outputs": [],
   "source": [
    "# create a two dimensional array\n",
    "y = np.array([[21,22,23],\n",
    "              [24,25,26],\n",
    "              [27,28,29],\n",
    "              [210,211,212]])"
   ]
  },
  {
   "cell_type": "code",
   "execution_count": 4,
   "metadata": {
    "collapsed": false
   },
   "outputs": [
    {
     "name": "stdout",
     "output_type": "stream",
     "text": [
      "(4, 3)\n"
     ]
    }
   ],
   "source": [
    "# print shape of 2d array\n",
    "print y.shape"
   ]
  },
  {
   "cell_type": "code",
   "execution_count": 5,
   "metadata": {
    "collapsed": false
   },
   "outputs": [
    {
     "name": "stdout",
     "output_type": "stream",
     "text": [
      "[[ 21  22  23  24  25  26]\n",
      " [ 27  28  29 210 211 212]]\n"
     ]
    }
   ],
   "source": [
    "# reshape the array to 2 x 6\n",
    "y = np.reshape(y,(2,6))\n",
    "print y"
   ]
  },
  {
   "cell_type": "code",
   "execution_count": 6,
   "metadata": {
    "collapsed": false
   },
   "outputs": [
    {
     "name": "stdout",
     "output_type": "stream",
     "text": [
      "[[ 21  22  23  24  25  26  27  28  29 210 211 212]]\n"
     ]
    }
   ],
   "source": [
    "# reshape the array to 1 x 12\n",
    "y = np.reshape(y,(1,12))\n",
    "print y"
   ]
  },
  {
   "cell_type": "code",
   "execution_count": 7,
   "metadata": {
    "collapsed": false
   },
   "outputs": [
    {
     "name": "stdout",
     "output_type": "stream",
     "text": [
      "[[ 21]\n",
      " [ 22]\n",
      " [ 23]\n",
      " [ 24]\n",
      " [ 25]\n",
      " [ 26]\n",
      " [ 27]\n",
      " [ 28]\n",
      " [ 29]\n",
      " [210]\n",
      " [211]\n",
      " [212]]\n"
     ]
    }
   ],
   "source": [
    "# transpose the array\n",
    "y = np.transpose(y)\n",
    "print y"
   ]
  },
  {
   "cell_type": "code",
   "execution_count": 8,
   "metadata": {
    "collapsed": false
   },
   "outputs": [
    {
     "name": "stdout",
     "output_type": "stream",
     "text": [
      "[25]\n"
     ]
    }
   ],
   "source": [
    "# indexing method 1\n",
    "#find the 5th value\n",
    "\n",
    "\n",
    "print y[4]"
   ]
  },
  {
   "cell_type": "code",
   "execution_count": 9,
   "metadata": {
    "collapsed": false
   },
   "outputs": [
    {
     "name": "stdout",
     "output_type": "stream",
     "text": [
      "[211]\n"
     ]
    }
   ],
   "source": [
    "# indexing method 2\n",
    "#find the 2nd to the last value\n",
    "print y[-2]"
   ]
  },
  {
   "cell_type": "code",
   "execution_count": 10,
   "metadata": {
    "collapsed": false
   },
   "outputs": [
    {
     "name": "stdout",
     "output_type": "stream",
     "text": [
      "[22 23 24]\n",
      "[[ 21]\n",
      " [ 22]\n",
      " [ 23]\n",
      " [ 24]\n",
      " [ 25]\n",
      " [ 26]\n",
      " [ 27]\n",
      " [ 28]\n",
      " [ 29]\n",
      " [210]\n",
      " [211]\n",
      " [212]]\n"
     ]
    }
   ],
   "source": [
    "# indexing method 3\n",
    "#find the element 2 to 5 (starting at 0)\n",
    "\n",
    "print y[1:4,0]\n",
    "print y"
   ]
  },
  {
   "cell_type": "code",
   "execution_count": 11,
   "metadata": {
    "collapsed": false
   },
   "outputs": [
    {
     "data": {
      "text/plain": [
       "array([[ 21],\n",
       "       [ 22],\n",
       "       [ 23],\n",
       "       [ 24],\n",
       "       [ 25],\n",
       "       [ 26],\n",
       "       [ 27],\n",
       "       [ 28],\n",
       "       [ 29],\n",
       "       [210],\n",
       "       [211],\n",
       "       [212]])"
      ]
     },
     "execution_count": 11,
     "metadata": {},
     "output_type": "execute_result"
    }
   ],
   "source": [
    "y"
   ]
  },
  {
   "cell_type": "code",
   "execution_count": 12,
   "metadata": {
    "collapsed": false
   },
   "outputs": [
    {
     "name": "stdout",
     "output_type": "stream",
     "text": [
      "[21 22 23 26]\n"
     ]
    }
   ],
   "source": [
    "# indexing method 4\n",
    "#find the elements 1,2,3 and 6, (try to index using an array)\n",
    "#ary = np.array([y[0:3],y[5]])\n",
    "\n",
    "ary = np.array([0, 1, 2, 5])\n",
    "print y[ary,0]\n"
   ]
  },
  {
   "cell_type": "code",
   "execution_count": 13,
   "metadata": {
    "collapsed": false
   },
   "outputs": [
    {
     "name": "stdout",
     "output_type": "stream",
     "text": [
      "[10 22 32 42 52 62 72 82 92] \n",
      "\n",
      "[10 22 32 42 52 62 72 82 92]\n"
     ]
    }
   ],
   "source": [
    "# indexing method 5\n",
    "#find values in x > 4\n",
    "\n",
    "print x, \"\\n\"\n",
    "print x[x> 4]"
   ]
  },
  {
   "cell_type": "code",
   "execution_count": 14,
   "metadata": {
    "collapsed": false
   },
   "outputs": [
    {
     "name": "stdout",
     "output_type": "stream",
     "text": [
      "[[[ 21  22]\n",
      "  [ 23  24]\n",
      "  [ 25  26]]\n",
      "\n",
      " [[ 27  28]\n",
      "  [ 29 210]\n",
      "  [211 212]]]\n"
     ]
    }
   ],
   "source": [
    "# indexing method 6\n",
    "\n",
    "threeD = np.reshape(y,(2,3,2))\n",
    "print threeD\n"
   ]
  },
  {
   "cell_type": "code",
   "execution_count": 15,
   "metadata": {
    "collapsed": false
   },
   "outputs": [
    {
     "name": "stdout",
     "output_type": "stream",
     "text": [
      "25\n"
     ]
    }
   ],
   "source": [
    "# indexing method 1\n",
    "#find the 5th value\n",
    "print threeD[0][2,0]"
   ]
  },
  {
   "cell_type": "code",
   "execution_count": 16,
   "metadata": {
    "collapsed": false
   },
   "outputs": [
    {
     "name": "stdout",
     "output_type": "stream",
     "text": [
      "211\n"
     ]
    }
   ],
   "source": [
    "# indexing method 2\n",
    "#find the 2nd to the last value\n",
    "print threeD[1][-1][-2]"
   ]
  },
  {
   "cell_type": "code",
   "execution_count": 41,
   "metadata": {
    "collapsed": false
   },
   "outputs": [
    {
     "name": "stdout",
     "output_type": "stream",
     "text": [
      "[[23 24]\n",
      " [25 26]]\n"
     ]
    }
   ],
   "source": [
    "# indexing method 3\n",
    "#find the element 2 to 5 (starting at 0)\n",
    "\n",
    "print threeD[0][1:6]"
   ]
  },
  {
   "cell_type": "code",
   "execution_count": 42,
   "metadata": {
    "collapsed": false
   },
   "outputs": [
    {
     "name": "stdout",
     "output_type": "stream",
     "text": [
      "[ 21  22  23  24  25  26  27  28  29 210 211 212]\n"
     ]
    }
   ],
   "source": [
    "# indexing method 5\n",
    "#find values in x > 4\n",
    "print threeD[threeD >4]"
   ]
  },
  {
   "cell_type": "code",
   "execution_count": null,
   "metadata": {
    "collapsed": true
   },
   "outputs": [],
   "source": []
  }
 ],
 "metadata": {
  "anaconda-cloud": {},
  "kernelspec": {
   "display_name": "Python [default]",
   "language": "python",
   "name": "python2"
  },
  "language_info": {
   "codemirror_mode": {
    "name": "ipython",
    "version": 2
   },
   "file_extension": ".py",
   "mimetype": "text/x-python",
   "name": "python",
   "nbconvert_exporter": "python",
   "pygments_lexer": "ipython2",
   "version": "2.7.12"
  }
 },
 "nbformat": 4,
 "nbformat_minor": 0
}
